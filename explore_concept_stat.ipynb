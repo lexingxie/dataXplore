{
 "cells": [
  {
   "cell_type": "code",
   "execution_count": null,
   "metadata": {
    "collapsed": true
   },
   "outputs": [],
   "source": [
    "import os\n",
    "import pickle \n",
    "import numpy as np\n",
    "#from elasticsearch import Elasticsearch\n",
    "import pandas as pd\n",
    "import seaborn as sns\n",
    "import matplotlib.pyplot as plt\n",
    "from datetime import datetime \n",
    "import urllib\n",
    "sns.set()\n",
    "\n",
    "%matplotlib inline"
   ]
  },
  {
   "cell_type": "code",
   "execution_count": null,
   "metadata": {},
   "outputs": [],
   "source": [
    "tpc_str = 'refugee'\n",
    "cum_doc_cnt = '41500'\n",
    "\n",
    "s = pickle.load(open(os.path.join('./data', 'concept_stats.'+tpc_str+'.'+str(cum_doc_cnt)+'.pkl'), 'rb'))\n",
    "#{'df_concept':df_concept}\n",
    "df_concept = s['df_concept']"
   ]
  },
  {
   "cell_type": "code",
   "execution_count": null,
   "metadata": {
    "scrolled": true
   },
   "outputs": [],
   "source": [
    "plt.figure(figsize=(15, 5))\n",
    "\n",
    "ax1 = plt.subplot(1, 1, 1)\n",
    "sns.set_context(\"talk\", font_scale=1.)\n",
    "sns.set_style(\"whitegrid\")\n",
    "\n",
    "ax1.autoscale(enable=True, tight=True)\n",
    "ax1.loglog([i for i in range(len(df_concept))], df_concept['count'])\n",
    "ax1.set_xlabel('concept rank')\n",
    "ax1.set_ylabel('concept frequency')"
   ]
  },
  {
   "cell_type": "code",
   "execution_count": null,
   "metadata": {
    "collapsed": true
   },
   "outputs": [],
   "source": [
    "istart = 200\n",
    "iend = 225\n",
    "place_ent = []\n",
    "other_ent = []\n",
    "for idx in range(istart, iend):\n",
    "    if df_concept.iloc[idx]['DBpedia:Place']:\n",
    "        place_ent.append( df_concept.index[idx] )\n",
    "        ax1.plot(idx, df_concept.iloc[idx]['count'], 'x', mec='b')\n",
    "    else:\n",
    "        other_ent.append( df_concept.index[idx] )\n",
    "        ax1.plot(idx, df_concept.iloc[idx]['count'], 'x', mec='r')"
   ]
  },
  {
   "cell_type": "code",
   "execution_count": null,
   "metadata": {
    "scrolled": true
   },
   "outputs": [],
   "source": [
    "df_concept.iloc[200:225, :]"
   ]
  },
  {
   "cell_type": "code",
   "execution_count": null,
   "metadata": {},
   "outputs": [],
   "source": [
    "df_concept.head()"
   ]
  },
  {
   "cell_type": "code",
   "execution_count": null,
   "metadata": {},
   "outputs": [],
   "source": [
    "df_concept.ix['Passport']"
   ]
  },
  {
   "cell_type": "code",
   "execution_count": null,
   "metadata": {},
   "outputs": [],
   "source": [
    "df_concept.loc[(df_concept['count'] >= 500) & (df_concept['count'] <= 1000)]"
   ]
  },
  {
   "cell_type": "code",
   "execution_count": null,
   "metadata": {
    "collapsed": true
   },
   "outputs": [],
   "source": [
    "aa = list(df_concept.loc[(df_concept['count'] >= 500) & (df_concept['count'] <= 1000)].index)"
   ]
  },
  {
   "cell_type": "code",
   "execution_count": null,
   "metadata": {
    "collapsed": true
   },
   "outputs": [],
   "source": [
    "bb = [s.lower().replace('_', ' ') for s in aa]"
   ]
  },
  {
   "cell_type": "code",
   "execution_count": null,
   "metadata": {},
   "outputs": [],
   "source": [
    "bb"
   ]
  },
  {
   "cell_type": "code",
   "execution_count": null,
   "metadata": {},
   "outputs": [],
   "source": [
    "urllib.request('http://www.image-net.org/api/text/wordnet.synset.getwords?wnid=n01882714')"
   ]
  },
  {
   "cell_type": "code",
   "execution_count": null,
   "metadata": {},
   "outputs": [],
   "source": [
    "def get_wlist(wnidlist):\n",
    "    buffer = BytesIO()\n",
    "    c = pycurl.Curl()\n",
    "    c.setopt(c.WRITEDATA, buffer)\n",
    "    \n",
    "    for wnid in wnidlist:\n",
    "        c.setopt(c.URL, 'http://www.image-net.org/api/text/wordnet.synset.getwords?wnid='+wnid)\n",
    "        c.perform()\n",
    "    c.close()\n",
    "\n",
    "    body = buffer.getvalue()\n",
    "    return ((body.decode('utf-8')).splitlines())"
   ]
  },
  {
   "cell_type": "code",
   "execution_count": null,
   "metadata": {},
   "outputs": [],
   "source": [
    "wnidlist = [line[10:19] for line in open('./data/wnet-50-head.txt')]\n",
    "get_wlist(wnidlist)"
   ]
  }
 ],
 "metadata": {
  "kernelspec": {
   "display_name": "Python 3",
   "language": "python",
   "name": "python3"
  },
  "language_info": {
   "codemirror_mode": {
    "name": "ipython",
    "version": 3
   },
   "file_extension": ".py",
   "mimetype": "text/x-python",
   "name": "python",
   "nbconvert_exporter": "python",
   "pygments_lexer": "ipython3",
   "version": "3.6.1"
  }
 },
 "nbformat": 4,
 "nbformat_minor": 1
}
