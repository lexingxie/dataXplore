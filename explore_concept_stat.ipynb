{
 "cells": [
  {
   "cell_type": "code",
   "execution_count": 4,
   "metadata": {
    "collapsed": true
   },
   "outputs": [],
   "source": [
    "import os\n",
    "import pickle \n",
    "import numpy as np\n",
    "#from elasticsearch import Elasticsearch\n",
    "import pandas as pd\n",
    "import seaborn as sns\n",
    "import matplotlib.pyplot as plt\n",
    "from datetime import datetime \n",
    "import urllib\n",
    "import pycurl\n",
    "from io import BytesIO\n",
    "sns.set()\n",
    "\n",
    "%matplotlib inline"
   ]
  },
  {
   "cell_type": "code",
   "execution_count": 20,
   "metadata": {
    "collapsed": true
   },
   "outputs": [],
   "source": [
    "tpc_str = 'refugee'\n",
    "cum_doc_cnt = '41500'\n",
    "\n",
    "s = pickle.load(open(os.path.join('./data', 'concept_stats.'+tpc_str+'.'+str(cum_doc_cnt)+'.pkl'), 'rb'))\n",
    "#{'df_concept':df_concept}\n",
    "df_concept = s['df_concept']"
   ]
  },
  {
   "cell_type": "code",
   "execution_count": 21,
   "metadata": {
    "collapsed": false,
    "scrolled": true
   },
   "outputs": [
    {
     "data": {
      "text/plain": [
       "<matplotlib.text.Text at 0x10cb57128>"
      ]
     },
     "execution_count": 21,
     "metadata": {},
     "output_type": "execute_result"
    },
    {
     "data": {
      "image/png": "[encoded data removed]",
      "text/plain": [
       "<matplotlib.figure.Figure at 0x110fc8a20>"
      ]
     },
     "metadata": {},
     "output_type": "display_data"
    }
   ],
   "source": [
    "plt.figure(figsize=(15, 5))\n",
    "\n",
    "ax1 = plt.subplot(1, 1, 1)\n",
    "sns.set_context(\"talk\", font_scale=1.)\n",
    "sns.set_style(\"whitegrid\")\n",
    "\n",
    "ax1.autoscale(enable=True, tight=True)\n",
    "ax1.loglog([i for i in range(len(df_concept))], df_concept['count'])\n",
    "ax1.set_xlabel('concept rank')\n",
    "ax1.set_ylabel('concept frequency')"
   ]
  },
  {
   "cell_type": "code",
   "execution_count": null,
   "metadata": {
    "collapsed": true
   },
   "outputs": [],
   "source": [
    "istart = 200\n",
    "iend = 225\n",
    "place_ent = []\n",
    "other_ent = []\n",
    "for idx in range(istart, iend):\n",
    "    if df_concept.iloc[idx]['DBpedia:Place']:\n",
    "        place_ent.append( df_concept.index[idx] )\n",
    "        ax1.plot(idx, df_concept.iloc[idx]['count'], 'x', mec='b')\n",
    "    else:\n",
    "        other_ent.append( df_concept.index[idx] )\n",
    "        ax1.plot(idx, df_concept.iloc[idx]['count'], 'x', mec='r')"
   ]
  },
  {
   "cell_type": "code",
   "execution_count": 28,
   "metadata": {
    "collapsed": false,
    "scrolled": true
   },
   "outputs": [
    {
     "data": {
      "text/html": [
       "<div>\n",
       "<table border=\"1\" class=\"dataframe\">\n",
       "  <thead>\n",
       "    <tr style=\"text-align: right;\">\n",
       "      <th></th>\n",
       "      <th>count</th>\n",
       "      <th>DBpedia:Place</th>\n",
       "      <th>DBpedia:Country</th>\n",
       "      <th>DBpedia:City</th>\n",
       "      <th>DBpedia:Organisation</th>\n",
       "      <th>DBpedia:Person</th>\n",
       "      <th>DBpedia:Company</th>\n",
       "      <th>DBpedia:Work</th>\n",
       "      <th>DBpedia:OfficeHolder</th>\n",
       "      <th>DBpedia:Event</th>\n",
       "      <th>DBpedia:EthnicGroup</th>\n",
       "      <th>DBpedia:Disease</th>\n",
       "      <th>DBpedia:MilitaryConflict</th>\n",
       "      <th>DBpedia:MusicalWork</th>\n",
       "      <th>Other</th>\n",
       "      <th>NA</th>\n",
       "    </tr>\n",
       "  </thead>\n",
       "  <tbody>\n",
       "    <tr>\n",
       "      <th>Starbucks</th>\n",
       "      <td>313</td>\n",
       "      <td>0</td>\n",
       "      <td>0</td>\n",
       "      <td>0</td>\n",
       "      <td>1</td>\n",
       "      <td>0</td>\n",
       "      <td>1</td>\n",
       "      <td>0</td>\n",
       "      <td>0</td>\n",
       "      <td>0</td>\n",
       "      <td>0</td>\n",
       "      <td>0</td>\n",
       "      <td>0</td>\n",
       "      <td>0</td>\n",
       "      <td>1</td>\n",
       "      <td>0</td>\n",
       "    </tr>\n",
       "    <tr>\n",
       "      <th>Television</th>\n",
       "      <td>312</td>\n",
       "      <td>0</td>\n",
       "      <td>0</td>\n",
       "      <td>0</td>\n",
       "      <td>0</td>\n",
       "      <td>0</td>\n",
       "      <td>0</td>\n",
       "      <td>0</td>\n",
       "      <td>0</td>\n",
       "      <td>0</td>\n",
       "      <td>0</td>\n",
       "      <td>0</td>\n",
       "      <td>0</td>\n",
       "      <td>0</td>\n",
       "      <td>0</td>\n",
       "      <td>1</td>\n",
       "    </tr>\n",
       "    <tr>\n",
       "      <th>Association_football</th>\n",
       "      <td>311</td>\n",
       "      <td>0</td>\n",
       "      <td>0</td>\n",
       "      <td>0</td>\n",
       "      <td>0</td>\n",
       "      <td>0</td>\n",
       "      <td>0</td>\n",
       "      <td>0</td>\n",
       "      <td>0</td>\n",
       "      <td>0</td>\n",
       "      <td>0</td>\n",
       "      <td>0</td>\n",
       "      <td>0</td>\n",
       "      <td>0</td>\n",
       "      <td>1</td>\n",
       "      <td>0</td>\n",
       "    </tr>\n",
       "    <tr>\n",
       "      <th>New_York</th>\n",
       "      <td>310</td>\n",
       "      <td>1</td>\n",
       "      <td>0</td>\n",
       "      <td>0</td>\n",
       "      <td>0</td>\n",
       "      <td>0</td>\n",
       "      <td>0</td>\n",
       "      <td>0</td>\n",
       "      <td>0</td>\n",
       "      <td>0</td>\n",
       "      <td>0</td>\n",
       "      <td>0</td>\n",
       "      <td>0</td>\n",
       "      <td>0</td>\n",
       "      <td>1</td>\n",
       "      <td>0</td>\n",
       "    </tr>\n",
       "    <tr>\n",
       "      <th>Judge</th>\n",
       "      <td>308</td>\n",
       "      <td>0</td>\n",
       "      <td>0</td>\n",
       "      <td>0</td>\n",
       "      <td>0</td>\n",
       "      <td>0</td>\n",
       "      <td>0</td>\n",
       "      <td>0</td>\n",
       "      <td>0</td>\n",
       "      <td>0</td>\n",
       "      <td>0</td>\n",
       "      <td>0</td>\n",
       "      <td>0</td>\n",
       "      <td>0</td>\n",
       "      <td>0</td>\n",
       "      <td>1</td>\n",
       "    </tr>\n",
       "  </tbody>\n",
       "</table>\n",
       "</div>"
      ],
      "text/plain": [
       "                      count  DBpedia:Place  DBpedia:Country  DBpedia:City  \\\n",
       "Starbucks               313              0                0             0   \n",
       "Television              312              0                0             0   \n",
       "Association_football    311              0                0             0   \n",
       "New_York                310              1                0             0   \n",
       "Judge                   308              0                0             0   \n",
       "\n",
       "                      DBpedia:Organisation  DBpedia:Person  DBpedia:Company  \\\n",
       "Starbucks                                1               0                1   \n",
       "Television                               0               0                0   \n",
       "Association_football                     0               0                0   \n",
       "New_York                                 0               0                0   \n",
       "Judge                                    0               0                0   \n",
       "\n",
       "                      DBpedia:Work  DBpedia:OfficeHolder  DBpedia:Event  \\\n",
       "Starbucks                        0                     0              0   \n",
       "Television                       0                     0              0   \n",
       "Association_football             0                     0              0   \n",
       "New_York                         0                     0              0   \n",
       "Judge                            0                     0              0   \n",
       "\n",
       "                      DBpedia:EthnicGroup  DBpedia:Disease  \\\n",
       "Starbucks                               0                0   \n",
       "Television                              0                0   \n",
       "Association_football                    0                0   \n",
       "New_York                                0                0   \n",
       "Judge                                   0                0   \n",
       "\n",
       "                      DBpedia:MilitaryConflict  DBpedia:MusicalWork  Other  NA  \n",
       "Starbucks                                    0                    0      1   0  \n",
       "Television                                   0                    0      0   1  \n",
       "Association_football                         0                    0      1   0  \n",
       "New_York                                     0                    0      1   0  \n",
       "Judge                                        0                    0      0   1  "
      ]
     },
     "execution_count": 28,
     "metadata": {},
     "output_type": "execute_result"
    }
   ],
   "source": [
    "df_concept.iloc[200:205, :]"
   ]
  },
  {
   "cell_type": "code",
   "execution_count": 23,
   "metadata": {
    "collapsed": false
   },
   "outputs": [],
   "source": [
    "cur_df = df_concept.loc[(df_concept['count'] >= 500) & (df_concept['count'] <= 1000)]\n",
    "norm_concept = [s.lower().replace('_', ' ') for s in list(cur_df.index)]"
   ]
  },
  {
   "cell_type": "code",
   "execution_count": 49,
   "metadata": {
    "collapsed": false
   },
   "outputs": [
    {
     "name": "stdout",
     "output_type": "stream",
     "text": [
      "(64, 15, 5, 4)\n"
     ]
    },
    {
     "data": {
      "text/plain": [
       "'2017, airport, associated_press, charitable_organization, christian, climate_change, culture, democracy, deportation, email, english_language, family_(biology), film, forced_migration, god, government_agency, health, health_care, high_commissioner, human_rights, islamic_state_of_iraq_and_the_levant, islamism, itunes, jews, language, mediterranean_sea, palestinian_refugee, persecution, politics_of_iran, poverty, racism, region, right_of_asylum, safety, society, town, vetting, water, world_refugee_day, world_war_ii'"
      ]
     },
     "execution_count": 49,
     "metadata": {},
     "output_type": "execute_result"
    }
   ],
   "source": [
    "loc_cnt = len(cur_df.loc[(cur_df['DBpedia:Place'] > 0) | (cur_df['DBpedia:Country'] > 0) | (cur_df['DBpedia:City'] > 0)])\n",
    "people_cnt = len(cur_df.loc[(cur_df['DBpedia:Person'] > 0)])\n",
    "org_cnt = len(cur_df.loc[(cur_df['DBpedia:Organisation'] > 0) | (cur_df['DBpedia:Company'] > 0) ])\n",
    "print((len(cur_df), loc_cnt, people_cnt, org_cnt))\n",
    "\n",
    "tmp_df = cur_df.loc[(cur_df['DBpedia:Place'] == 0) & (cur_df['DBpedia:Country'] == 0) & (cur_df['DBpedia:City'] == 0) \n",
    "                   & (cur_df['DBpedia:Organisation'] == 0) & (cur_df['DBpedia:Company'] == 0) & (cur_df['DBpedia:Person'] == 0) ]\n",
    "\", \".join(sorted([s.lower() for s in tmp_df.index]))"
   ]
  },
  {
   "cell_type": "code",
   "execution_count": 13,
   "metadata": {
    "collapsed": false
   },
   "outputs": [],
   "source": [
    "\n",
    "def get_wlist(wnidlist):\n",
    "    buffer = BytesIO()\n",
    "    c = pycurl.Curl()\n",
    "    c.setopt(c.WRITEDATA, buffer)\n",
    "    \n",
    "    for i, wnid in enumerate(wnidlist):\n",
    "        c.setopt(c.URL, 'http://www.image-net.org/api/text/wordnet.synset.getwords?wnid='+wnid)\n",
    "        c.perform()\n",
    "        if i % 100 == 0:\n",
    "            print(\"{} {} out of {}\".format(datetime.now(), i+1, len(wnidlist)) )\n",
    "    c.close()\n",
    "\n",
    "    body = buffer.getvalue()\n",
    "    return ((body.decode('utf-8')).splitlines())\n"
   ]
  },
  {
   "cell_type": "code",
   "execution_count": 14,
   "metadata": {
    "collapsed": false
   },
   "outputs": [
    {
     "name": "stdout",
     "output_type": "stream",
     "text": [
      "2017-09-25 20:14:37.961707 1 out of 13288\n",
      "2017-09-25 20:14:57.334512 101 out of 13288\n",
      "2017-09-25 20:15:17.651102 201 out of 13288\n",
      "2017-09-25 20:15:38.831224 301 out of 13288\n",
      "2017-09-25 20:15:58.476426 401 out of 13288\n",
      "2017-09-25 20:16:19.528323 501 out of 13288\n",
      "2017-09-25 20:16:40.807763 601 out of 13288\n",
      "2017-09-25 20:17:01.658772 701 out of 13288\n",
      "2017-09-25 20:17:22.347713 801 out of 13288\n",
      "2017-09-25 20:17:42.166822 901 out of 13288\n",
      "2017-09-25 20:18:01.916114 1001 out of 13288\n",
      "2017-09-25 20:18:21.842300 1101 out of 13288\n",
      "2017-09-25 20:18:42.714273 1201 out of 13288\n",
      "2017-09-25 20:19:03.561018 1301 out of 13288\n",
      "2017-09-25 20:19:24.177459 1401 out of 13288\n",
      "2017-09-25 20:19:43.640426 1501 out of 13288\n",
      "2017-09-25 20:20:04.721795 1601 out of 13288\n",
      "2017-09-25 20:20:23.957903 1701 out of 13288\n",
      "2017-09-25 20:20:43.381907 1801 out of 13288\n",
      "2017-09-25 20:21:03.677676 1901 out of 13288\n",
      "2017-09-25 20:21:24.738220 2001 out of 13288\n",
      "2017-09-25 20:21:45.854955 2101 out of 13288\n",
      "2017-09-25 20:22:04.544761 2201 out of 13288\n",
      "2017-09-25 20:22:23.438052 2301 out of 13288\n",
      "2017-09-25 20:22:43.264226 2401 out of 13288\n",
      "2017-09-25 20:23:03.755005 2501 out of 13288\n",
      "2017-09-25 20:23:24.654131 2601 out of 13288\n",
      "2017-09-25 20:23:45.368812 2701 out of 13288\n",
      "2017-09-25 20:24:06.663334 2801 out of 13288\n",
      "2017-09-25 20:24:26.719412 2901 out of 13288\n",
      "2017-09-25 20:24:46.757025 3001 out of 13288\n",
      "2017-09-25 20:25:07.084380 3101 out of 13288\n",
      "2017-09-25 20:25:28.230995 3201 out of 13288\n",
      "2017-09-25 20:25:48.426113 3301 out of 13288\n",
      "2017-09-25 20:26:08.262297 3401 out of 13288\n",
      "2017-09-25 20:26:28.368504 3501 out of 13288\n",
      "2017-09-25 20:26:48.558444 3601 out of 13288\n",
      "2017-09-25 20:27:09.068989 3701 out of 13288\n",
      "2017-09-25 20:27:29.891736 3801 out of 13288\n",
      "2017-09-25 20:27:50.040620 3901 out of 13288\n",
      "2017-09-25 20:28:10.220430 4001 out of 13288\n",
      "2017-09-25 20:28:30.029144 4101 out of 13288\n",
      "2017-09-25 20:28:49.146609 4201 out of 13288\n",
      "2017-09-25 20:29:08.557341 4301 out of 13288\n",
      "2017-09-25 20:29:28.908318 4401 out of 13288\n",
      "2017-09-25 20:29:48.621309 4501 out of 13288\n",
      "2017-09-25 20:30:07.776613 4601 out of 13288\n",
      "2017-09-25 20:30:28.372080 4701 out of 13288\n",
      "2017-09-25 20:30:49.109747 4801 out of 13288\n",
      "2017-09-25 20:31:09.314669 4901 out of 13288\n",
      "2017-09-25 20:31:29.624770 5001 out of 13288\n",
      "2017-09-25 20:31:50.283017 5101 out of 13288\n",
      "2017-09-25 20:32:11.401428 5201 out of 13288\n",
      "2017-09-25 20:32:32.391883 5301 out of 13288\n",
      "2017-09-25 20:32:52.104808 5401 out of 13288\n",
      "2017-09-25 20:33:12.600389 5501 out of 13288\n",
      "2017-09-25 20:33:32.677071 5601 out of 13288\n",
      "2017-09-25 20:33:52.102337 5701 out of 13288\n",
      "2017-09-25 20:34:12.731370 5801 out of 13288\n",
      "2017-09-25 20:34:32.448573 5901 out of 13288\n",
      "2017-09-25 20:34:52.316716 6001 out of 13288\n",
      "2017-09-25 20:35:12.406796 6101 out of 13288\n",
      "2017-09-25 20:35:32.255660 6201 out of 13288\n",
      "2017-09-25 20:35:52.910254 6301 out of 13288\n",
      "2017-09-25 20:36:12.394802 6401 out of 13288\n",
      "2017-09-25 20:36:31.657034 6501 out of 13288\n",
      "2017-09-25 20:36:50.777677 6601 out of 13288\n",
      "2017-09-25 20:37:10.883744 6701 out of 13288\n",
      "2017-09-25 20:37:30.286692 6801 out of 13288\n",
      "2017-09-25 20:37:52.664822 6901 out of 13288\n",
      "2017-09-25 20:38:14.750482 7001 out of 13288\n",
      "2017-09-25 20:38:35.876327 7101 out of 13288\n",
      "2017-09-25 20:38:55.873601 7201 out of 13288\n",
      "2017-09-25 20:39:16.120447 7301 out of 13288\n",
      "2017-09-25 20:39:35.770089 7401 out of 13288\n",
      "2017-09-25 20:39:55.421115 7501 out of 13288\n",
      "2017-09-25 20:40:18.341658 7601 out of 13288\n",
      "2017-09-25 20:40:38.470596 7701 out of 13288\n",
      "2017-09-25 20:40:59.417615 7801 out of 13288\n",
      "2017-09-25 20:41:20.490590 7901 out of 13288\n",
      "2017-09-25 20:41:40.237384 8001 out of 13288\n",
      "2017-09-25 20:42:00.171065 8101 out of 13288\n",
      "2017-09-25 20:42:20.242465 8201 out of 13288\n",
      "2017-09-25 20:42:41.228613 8301 out of 13288\n",
      "2017-09-25 20:43:00.730746 8401 out of 13288\n",
      "2017-09-25 20:43:22.190366 8501 out of 13288\n",
      "2017-09-25 20:51:44.871931 8601 out of 13288\n",
      "2017-09-25 20:52:03.747722 8701 out of 13288\n",
      "2017-09-25 20:52:24.370010 8801 out of 13288\n",
      "2017-09-25 20:52:45.100119 8901 out of 13288\n",
      "2017-09-25 20:53:05.628239 9001 out of 13288\n",
      "2017-09-25 20:53:24.457607 9101 out of 13288\n",
      "2017-09-25 20:53:43.050511 9201 out of 13288\n",
      "2017-09-25 20:54:02.555047 9301 out of 13288\n",
      "2017-09-25 20:54:21.307362 9401 out of 13288\n",
      "2017-09-25 20:54:41.344258 9501 out of 13288\n",
      "2017-09-25 20:55:02.132120 9601 out of 13288\n",
      "2017-09-25 20:55:22.879818 9701 out of 13288\n",
      "2017-09-25 20:55:44.539734 9801 out of 13288\n",
      "2017-09-25 20:56:04.063924 9901 out of 13288\n",
      "2017-09-25 20:56:25.761577 10001 out of 13288\n",
      "2017-09-25 20:56:46.847728 10101 out of 13288\n",
      "2017-09-25 20:57:07.355862 10201 out of 13288\n",
      "2017-09-25 20:57:26.725446 10301 out of 13288\n",
      "2017-09-25 20:57:46.253310 10401 out of 13288\n",
      "2017-09-25 20:58:06.902524 10501 out of 13288\n",
      "2017-09-25 20:58:30.733787 10601 out of 13288\n",
      "2017-09-25 20:58:56.315589 10701 out of 13288\n",
      "2017-09-25 20:59:17.332479 10801 out of 13288\n",
      "2017-09-25 20:59:36.921183 10901 out of 13288\n",
      "2017-09-25 20:59:57.159373 11001 out of 13288\n",
      "2017-09-25 21:00:17.825097 11101 out of 13288\n",
      "2017-09-25 21:00:38.372203 11201 out of 13288\n",
      "2017-09-25 21:01:08.990618 11301 out of 13288\n",
      "2017-09-25 21:01:29.461852 11401 out of 13288\n",
      "2017-09-25 21:01:50.692844 11501 out of 13288\n",
      "2017-09-25 21:02:10.917232 11601 out of 13288\n",
      "2017-09-25 21:02:30.542156 11701 out of 13288\n",
      "2017-09-25 21:02:51.031772 11801 out of 13288\n",
      "2017-09-25 21:03:11.568428 11901 out of 13288\n",
      "2017-09-25 21:03:32.142030 12001 out of 13288\n",
      "2017-09-25 21:03:53.323233 12101 out of 13288\n",
      "2017-09-25 21:04:12.946570 12201 out of 13288\n",
      "2017-09-25 21:04:31.997631 12301 out of 13288\n",
      "2017-09-25 21:04:51.513991 12401 out of 13288\n",
      "2017-09-25 21:05:11.393081 12501 out of 13288\n",
      "2017-09-25 21:05:31.372749 12601 out of 13288\n",
      "2017-09-25 21:05:50.601143 12701 out of 13288\n",
      "2017-09-25 21:06:10.500008 12801 out of 13288\n",
      "2017-09-25 21:06:30.291770 12901 out of 13288\n",
      "2017-09-25 21:06:49.952717 13001 out of 13288\n",
      "2017-09-25 21:07:09.360814 13101 out of 13288\n",
      "2017-09-25 21:07:32.544565 13201 out of 13288\n"
     ]
    }
   ],
   "source": [
    "wnidlist = [line[10:19] for line in open('./data/wnet-50.txt')]\n",
    "\n",
    "name_list = get_wlist(wnidlist)\n",
    "open('./data/name_list.txt', 'wt').write('\\n'.join(name_list))"
   ]
  },
  {
   "cell_type": "code",
   "execution_count": 24,
   "metadata": {
    "collapsed": false
   },
   "outputs": [],
   "source": [
    "name_set = set([s.lower() for s in name_list])"
   ]
  },
  {
   "cell_type": "code",
   "execution_count": 27,
   "metadata": {
    "collapsed": false
   },
   "outputs": [
    {
     "data": {
      "text/plain": [
       "5"
      ]
     },
     "execution_count": 27,
     "metadata": {},
     "output_type": "execute_result"
    }
   ],
   "source": [
    "sum([n in name_set for n in norm_concept])"
   ]
  },
  {
   "cell_type": "code",
   "execution_count": null,
   "metadata": {
    "collapsed": true
   },
   "outputs": [],
   "source": []
  }
 ],
 "metadata": {
  "kernelspec": {
   "display_name": "Python 3",
   "language": "python",
   "name": "python3"
  },
  "language_info": {
   "codemirror_mode": {
    "name": "ipython",
    "version": 3
   },
   "file_extension": ".py",
   "mimetype": "text/x-python",
   "name": "python",
   "nbconvert_exporter": "python",
   "pygments_lexer": "ipython3",
   "version": "3.5.2"
  }
 },
 "nbformat": 4,
 "nbformat_minor": 1
}
